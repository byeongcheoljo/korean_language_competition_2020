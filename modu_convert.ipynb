{
 "cells": [
  {
   "cell_type": "code",
   "execution_count": 49,
   "metadata": {},
   "outputs": [
    {
     "data": {
      "text/plain": [
       "355133"
      ]
     },
     "execution_count": 49,
     "metadata": {},
     "output_type": "execute_result"
    }
   ],
   "source": [
    "import os\n",
    "import json\n",
    "import random\n",
    "\n",
    "foldername = \"./NIKL_NEWSPAPER(v1.0)/국립국어원 신문 말뭉치(버전 1.0)\"\n",
    "publisher_dic = {}\n",
    "topic_dic = {}\n",
    "sentences = []\n",
    "sport_count = 0\n",
    "for file in os.listdir(foldername):\n",
    "    if file.endswith('.json'):\n",
    "        file_name = os.path.join(foldername, file)\n",
    "        data = json.load(open(file_name, 'r'))\n",
    "        # print(data[\"document\"])\n",
    "        for doc in data['document']:\n",
    "            if doc['metadata']['topic'] == '스포츠': # 스포츠 topic 데이터만 뽑자 \n",
    "                sport_count += 1\n",
    "                idx = random.randint(0, len(doc['paragraph'])-1)\n",
    "                sentences.append(doc['paragraph'][idx]['form'])\n",
    "                # for paragraph in doc[\"paragraph\"]:\n",
    "                    # sentences.append(paragraph['form'])\n",
    "len(sentences)"
   ]
  },
  {
   "cell_type": "code",
   "execution_count": 50,
   "metadata": {},
   "outputs": [],
   "source": [
    "with open('./modu/random_news.txt', 'w') as f:\n",
    "    for sentence in sentences:\n",
    "        if sentence.strip():\n",
    "            f.write(sentence.strip()+'\\n')\n",
    "        "
   ]
  },
  {
   "cell_type": "code",
   "execution_count": 47,
   "metadata": {},
   "outputs": [
    {
     "data": {
      "text/plain": [
       "96810"
      ]
     },
     "execution_count": 47,
     "metadata": {},
     "output_type": "execute_result"
    }
   ],
   "source": [
    "import os\n",
    "import json\n",
    "import random\n",
    "foldername = \"./NIKL_WEB(v1.0)/국립국어원 웹 말뭉치(버전 1.0)\"\n",
    "review_sentences = []\n",
    "count = 10\n",
    "for file in os.listdir(foldername):\n",
    "    if file.endswith('.json') and file[1] == 'R':\n",
    "        file_name = os.path.join(foldername, file)\n",
    "        data = json.load(open(file_name, 'r'))\n",
    "        # print(data[\"document\"])\n",
    "        for doc in data['document']:\n",
    "            count = 5\n",
    "            idx = random.randint(0, len(doc['paragraph'])-1)\n",
    "            while doc[\"paragraph\"][idx]['form'][0] == '#' and count > 0:\n",
    "                idx = random.randint(0, len(doc['paragraph'])-1)\n",
    "                count -= 1\n",
    "            review_sentences.append(doc[\"paragraph\"][idx]['form'])\n",
    "\n",
    "len(review_sentences)"
   ]
  },
  {
   "cell_type": "code",
   "execution_count": 48,
   "metadata": {},
   "outputs": [],
   "source": [
    "with open('./data/modu/review.txt', 'w') as f:\n",
    "    for sentence in review_sentences:\n",
    "        if sentence.strip():\n",
    "            f.write(sentence.strip()+'\\n')"
   ]
  },
  {
   "cell_type": "code",
   "execution_count": null,
   "metadata": {},
   "outputs": [],
   "source": []
  }
 ],
 "metadata": {
  "kernelspec": {
   "display_name": "Python 3",
   "language": "python",
   "name": "python3"
  },
  "language_info": {
   "codemirror_mode": {
    "name": "ipython",
    "version": 3
   },
   "file_extension": ".py",
   "mimetype": "text/x-python",
   "name": "python",
   "nbconvert_exporter": "python",
   "pygments_lexer": "ipython3",
   "version": "3.6.8"
  }
 },
 "nbformat": 4,
 "nbformat_minor": 4
}
